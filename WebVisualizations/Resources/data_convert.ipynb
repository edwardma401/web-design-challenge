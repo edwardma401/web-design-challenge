{
 "cells": [
  {
   "cell_type": "code",
   "execution_count": 1,
   "metadata": {},
   "outputs": [],
   "source": [
    "import pandas as pd"
   ]
  },
  {
   "cell_type": "code",
   "execution_count": 2,
   "metadata": {},
   "outputs": [],
   "source": [
    "data_processing = pd.read_json(r'city.list.json')"
   ]
  },
  {
   "cell_type": "code",
   "execution_count": 3,
   "metadata": {},
   "outputs": [
    {
     "data": {
      "text/html": [
       "<div>\n",
       "<style scoped>\n",
       "    .dataframe tbody tr th:only-of-type {\n",
       "        vertical-align: middle;\n",
       "    }\n",
       "\n",
       "    .dataframe tbody tr th {\n",
       "        vertical-align: top;\n",
       "    }\n",
       "\n",
       "    .dataframe thead th {\n",
       "        text-align: right;\n",
       "    }\n",
       "</style>\n",
       "<table border=\"1\" class=\"dataframe\">\n",
       "  <thead>\n",
       "    <tr style=\"text-align: right;\">\n",
       "      <th></th>\n",
       "      <th>id</th>\n",
       "      <th>name</th>\n",
       "      <th>country</th>\n",
       "      <th>coord</th>\n",
       "    </tr>\n",
       "  </thead>\n",
       "  <tbody>\n",
       "    <tr>\n",
       "      <th>0</th>\n",
       "      <td>707860</td>\n",
       "      <td>Hurzuf</td>\n",
       "      <td>UA</td>\n",
       "      <td>{'lon': 34.283333, 'lat': 44.549999}</td>\n",
       "    </tr>\n",
       "    <tr>\n",
       "      <th>1</th>\n",
       "      <td>519188</td>\n",
       "      <td>Novinki</td>\n",
       "      <td>RU</td>\n",
       "      <td>{'lon': 37.666668, 'lat': 55.683334}</td>\n",
       "    </tr>\n",
       "    <tr>\n",
       "      <th>2</th>\n",
       "      <td>1283378</td>\n",
       "      <td>Gorkhā</td>\n",
       "      <td>NP</td>\n",
       "      <td>{'lon': 84.633331, 'lat': 28}</td>\n",
       "    </tr>\n",
       "    <tr>\n",
       "      <th>3</th>\n",
       "      <td>1270260</td>\n",
       "      <td>State of Haryāna</td>\n",
       "      <td>IN</td>\n",
       "      <td>{'lon': 76, 'lat': 29}</td>\n",
       "    </tr>\n",
       "    <tr>\n",
       "      <th>4</th>\n",
       "      <td>708546</td>\n",
       "      <td>Holubynka</td>\n",
       "      <td>UA</td>\n",
       "      <td>{'lon': 33.900002, 'lat': 44.599998}</td>\n",
       "    </tr>\n",
       "    <tr>\n",
       "      <th>...</th>\n",
       "      <td>...</td>\n",
       "      <td>...</td>\n",
       "      <td>...</td>\n",
       "      <td>...</td>\n",
       "    </tr>\n",
       "    <tr>\n",
       "      <th>209574</th>\n",
       "      <td>2613685</td>\n",
       "      <td>Skodsborg</td>\n",
       "      <td>DK</td>\n",
       "      <td>{'lon': 12.57324, 'lat': 55.822498}</td>\n",
       "    </tr>\n",
       "    <tr>\n",
       "      <th>209575</th>\n",
       "      <td>2613357</td>\n",
       "      <td>Smidstrup</td>\n",
       "      <td>DK</td>\n",
       "      <td>{'lon': 12.55787, 'lat': 55.865688}</td>\n",
       "    </tr>\n",
       "    <tr>\n",
       "      <th>209576</th>\n",
       "      <td>6460975</td>\n",
       "      <td>Rastnik</td>\n",
       "      <td>BG</td>\n",
       "      <td>{'lon': 25.283331, 'lat': 41.400002}</td>\n",
       "    </tr>\n",
       "    <tr>\n",
       "      <th>209577</th>\n",
       "      <td>727762</td>\n",
       "      <td>Rastnik</td>\n",
       "      <td>BG</td>\n",
       "      <td>{'lon': 25.283331, 'lat': 41.400002}</td>\n",
       "    </tr>\n",
       "    <tr>\n",
       "      <th>209578</th>\n",
       "      <td>596826</td>\n",
       "      <td>Murava</td>\n",
       "      <td>LT</td>\n",
       "      <td>{'lon': 23.966669, 'lat': 54.916672}</td>\n",
       "    </tr>\n",
       "  </tbody>\n",
       "</table>\n",
       "<p>209579 rows × 4 columns</p>\n",
       "</div>"
      ],
      "text/plain": [
       "             id              name country  \\\n",
       "0        707860            Hurzuf      UA   \n",
       "1        519188           Novinki      RU   \n",
       "2       1283378            Gorkhā      NP   \n",
       "3       1270260  State of Haryāna      IN   \n",
       "4        708546         Holubynka      UA   \n",
       "...         ...               ...     ...   \n",
       "209574  2613685         Skodsborg      DK   \n",
       "209575  2613357         Smidstrup      DK   \n",
       "209576  6460975           Rastnik      BG   \n",
       "209577   727762           Rastnik      BG   \n",
       "209578   596826            Murava      LT   \n",
       "\n",
       "                                       coord  \n",
       "0       {'lon': 34.283333, 'lat': 44.549999}  \n",
       "1       {'lon': 37.666668, 'lat': 55.683334}  \n",
       "2              {'lon': 84.633331, 'lat': 28}  \n",
       "3                     {'lon': 76, 'lat': 29}  \n",
       "4       {'lon': 33.900002, 'lat': 44.599998}  \n",
       "...                                      ...  \n",
       "209574   {'lon': 12.57324, 'lat': 55.822498}  \n",
       "209575   {'lon': 12.55787, 'lat': 55.865688}  \n",
       "209576  {'lon': 25.283331, 'lat': 41.400002}  \n",
       "209577  {'lon': 25.283331, 'lat': 41.400002}  \n",
       "209578  {'lon': 23.966669, 'lat': 54.916672}  \n",
       "\n",
       "[209579 rows x 4 columns]"
      ]
     },
     "execution_count": 3,
     "metadata": {},
     "output_type": "execute_result"
    }
   ],
   "source": [
    "data_processing"
   ]
  },
  {
   "cell_type": "code",
   "execution_count": 4,
   "metadata": {},
   "outputs": [],
   "source": [
    "data_html = data_processing.to_html()"
   ]
  },
  {
   "cell_type": "code",
   "execution_count": 19,
   "metadata": {},
   "outputs": [],
   "source": [
    "text_file = open(\"../index1.html\", \"w\", encoding='utf-8')"
   ]
  },
  {
   "cell_type": "code",
   "execution_count": 20,
   "metadata": {},
   "outputs": [
    {
     "data": {
      "text/plain": [
       "33238022"
      ]
     },
     "execution_count": 20,
     "metadata": {},
     "output_type": "execute_result"
    }
   ],
   "source": [
    "text_file.write(data_html)"
   ]
  },
  {
   "cell_type": "code",
   "execution_count": null,
   "metadata": {},
   "outputs": [],
   "source": []
  }
 ],
 "metadata": {
  "kernelspec": {
   "display_name": "Python 3",
   "language": "python",
   "name": "python3"
  },
  "language_info": {
   "codemirror_mode": {
    "name": "ipython",
    "version": 3
   },
   "file_extension": ".py",
   "mimetype": "text/x-python",
   "name": "python",
   "nbconvert_exporter": "python",
   "pygments_lexer": "ipython3",
   "version": "3.7.6"
  }
 },
 "nbformat": 4,
 "nbformat_minor": 4
}
